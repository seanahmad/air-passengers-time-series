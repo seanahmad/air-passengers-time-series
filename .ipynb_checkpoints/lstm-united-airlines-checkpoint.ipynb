{
 "cells": [
  {
   "cell_type": "markdown",
   "metadata": {},
   "source": [
    "## Python version"
   ]
  },
  {
   "cell_type": "code",
   "execution_count": 1,
   "metadata": {},
   "outputs": [
    {
     "name": "stdout",
     "output_type": "stream",
     "text": [
      "3.6.9\n"
     ]
    }
   ],
   "source": [
    "from platform import python_version\n",
    "print(python_version())"
   ]
  },
  {
   "cell_type": "markdown",
   "metadata": {},
   "source": [
    "## Import Libraries"
   ]
  },
  {
   "cell_type": "code",
   "execution_count": 2,
   "metadata": {},
   "outputs": [
    {
     "name": "stdout",
     "output_type": "stream",
     "text": [
      "2.2.0\n"
     ]
    }
   ],
   "source": [
    "import tensorflow as tf\n",
    "print(tf.__version__)"
   ]
  },
  {
   "cell_type": "code",
   "execution_count": 3,
   "metadata": {},
   "outputs": [],
   "source": [
    "tf.random.set_seed(1234)"
   ]
  },
  {
   "cell_type": "code",
   "execution_count": 4,
   "metadata": {},
   "outputs": [],
   "source": [
    "import csv\n",
    "import math\n",
    "import matplotlib.pyplot as plt\n",
    "import numpy as np\n",
    "import os\n",
    "import pandas as pd\n",
    "import random\n",
    "import statsmodels.api as sm\n",
    "import statsmodels.formula.api as smf\n",
    "\n",
    "from math import sqrt\n",
    "from numpy.random import seed\n",
    "seed(1)\n",
    "from pandas import DataFrame\n",
    "from sklearn.metrics import mean_squared_error\n",
    "from sklearn.model_selection import train_test_split\n",
    "from sklearn.preprocessing import MinMaxScaler\n",
    "from statsmodels.tsa.stattools import adfuller\n",
    "from tensorflow.keras.layers import Dense\n",
    "from tensorflow.keras import layers\n",
    "from tensorflow.keras.layers import LSTM\n",
    "\n",
    "dtypes = {\n",
    "       'passengers': 'float64'\n",
    "}"
   ]
  },
  {
   "cell_type": "markdown",
   "metadata": {},
   "source": [
    "## Data Import and Manipulation"
   ]
  },
  {
   "cell_type": "code",
   "execution_count": 5,
   "metadata": {},
   "outputs": [],
   "source": [
    "dataset = pd.read_csv(\"time-series.csv\", dtype=dtypes)"
   ]
  },
  {
   "cell_type": "code",
   "execution_count": 6,
   "metadata": {},
   "outputs": [
    {
     "data": {
      "text/html": [
       "<div>\n",
       "<style scoped>\n",
       "    .dataframe tbody tr th:only-of-type {\n",
       "        vertical-align: middle;\n",
       "    }\n",
       "\n",
       "    .dataframe tbody tr th {\n",
       "        vertical-align: top;\n",
       "    }\n",
       "\n",
       "    .dataframe thead th {\n",
       "        text-align: right;\n",
       "    }\n",
       "</style>\n",
       "<table border=\"1\" class=\"dataframe\">\n",
       "  <thead>\n",
       "    <tr style=\"text-align: right;\">\n",
       "      <th></th>\n",
       "      <th>date</th>\n",
       "      <th>passengers</th>\n",
       "    </tr>\n",
       "  </thead>\n",
       "  <tbody>\n",
       "    <tr>\n",
       "      <th>0</th>\n",
       "      <td>2014-02-01</td>\n",
       "      <td>213908.0</td>\n",
       "    </tr>\n",
       "    <tr>\n",
       "      <th>1</th>\n",
       "      <td>2014-03-01</td>\n",
       "      <td>248037.0</td>\n",
       "    </tr>\n",
       "    <tr>\n",
       "      <th>2</th>\n",
       "      <td>2014-04-01</td>\n",
       "      <td>256717.0</td>\n",
       "    </tr>\n",
       "    <tr>\n",
       "      <th>3</th>\n",
       "      <td>2014-05-01</td>\n",
       "      <td>263538.0</td>\n",
       "    </tr>\n",
       "    <tr>\n",
       "      <th>4</th>\n",
       "      <td>2014-06-01</td>\n",
       "      <td>287690.0</td>\n",
       "    </tr>\n",
       "    <tr>\n",
       "      <th>...</th>\n",
       "      <td>...</td>\n",
       "      <td>...</td>\n",
       "    </tr>\n",
       "    <tr>\n",
       "      <th>72</th>\n",
       "      <td>2020-02-01</td>\n",
       "      <td>215463.0</td>\n",
       "    </tr>\n",
       "    <tr>\n",
       "      <th>73</th>\n",
       "      <td>2020-03-01</td>\n",
       "      <td>98620.0</td>\n",
       "    </tr>\n",
       "    <tr>\n",
       "      <th>74</th>\n",
       "      <td>2020-04-01</td>\n",
       "      <td>7323.0</td>\n",
       "    </tr>\n",
       "    <tr>\n",
       "      <th>75</th>\n",
       "      <td>2020-05-01</td>\n",
       "      <td>7115.0</td>\n",
       "    </tr>\n",
       "    <tr>\n",
       "      <th>76</th>\n",
       "      <td>2020-06-01</td>\n",
       "      <td>10522.0</td>\n",
       "    </tr>\n",
       "  </tbody>\n",
       "</table>\n",
       "<p>77 rows × 2 columns</p>\n",
       "</div>"
      ],
      "text/plain": [
       "          date  passengers\n",
       "0   2014-02-01    213908.0\n",
       "1   2014-03-01    248037.0\n",
       "2   2014-04-01    256717.0\n",
       "3   2014-05-01    263538.0\n",
       "4   2014-06-01    287690.0\n",
       "..         ...         ...\n",
       "72  2020-02-01    215463.0\n",
       "73  2020-03-01     98620.0\n",
       "74  2020-04-01      7323.0\n",
       "75  2020-05-01      7115.0\n",
       "76  2020-06-01     10522.0\n",
       "\n",
       "[77 rows x 2 columns]"
      ]
     },
     "execution_count": 6,
     "metadata": {},
     "output_type": "execute_result"
    }
   ],
   "source": [
    "a=dataset.head()\n",
    "b=dataset\n",
    "b"
   ]
  },
  {
   "cell_type": "code",
   "execution_count": 7,
   "metadata": {},
   "outputs": [
    {
     "data": {
      "text/plain": [
       "0     213908.0\n",
       "1     248037.0\n",
       "2     256717.0\n",
       "3     263538.0\n",
       "4     287690.0\n",
       "        ...   \n",
       "72    215463.0\n",
       "73     98620.0\n",
       "74      7323.0\n",
       "75      7115.0\n",
       "76     10522.0\n",
       "Name: passengers, Length: 77, dtype: float64"
      ]
     },
     "execution_count": 7,
     "metadata": {},
     "output_type": "execute_result"
    }
   ],
   "source": [
    "tseries=dataset['passengers']\n",
    "tseries"
   ]
  },
  {
   "cell_type": "code",
   "execution_count": 8,
   "metadata": {},
   "outputs": [
    {
     "name": "stderr",
     "output_type": "stream",
     "text": [
      "/home/michael/.local/lib/python3.6/site-packages/statsmodels/stats/diagnostic.py:524: FutureWarning: The value returned will change to a single DataFrame after 0.12 is released.  Set return_df to True to use to return a DataFrame now.  Set return_df to False to silence this warning.\n",
      "  warnings.warn(msg, FutureWarning)\n"
     ]
    },
    {
     "data": {
      "text/plain": [
       "(array([13.6348013]), array([0.19031047]))"
      ]
     },
     "execution_count": 8,
     "metadata": {},
     "output_type": "execute_result"
    }
   ],
   "source": [
    "# https://www.statsmodels.org/stable/generated/statsmodels.stats.diagnostic.acorr_ljungbox.html\n",
    "res = sm.tsa.ARMA(tseries, (1,1)).fit(disp=-1)\n",
    "sm.stats.acorr_ljungbox(res.resid, lags=[10])"
   ]
  },
  {
   "cell_type": "code",
   "execution_count": 9,
   "metadata": {},
   "outputs": [
    {
     "name": "stdout",
     "output_type": "stream",
     "text": [
      "ADF Statistic: 0.148785\n",
      "p-value: 0.969238\n",
      "Critical Values:\n",
      "\t1%: -3.537\n",
      "\t5%: -2.908\n",
      "\t10%: -2.591\n"
     ]
    }
   ],
   "source": [
    "result = adfuller(tseries)\n",
    "print('ADF Statistic: %f' % result[0])\n",
    "print('p-value: %f' % result[1])\n",
    "print('Critical Values:')\n",
    "for key, value in result[4].items():\n",
    "    print('\\t%s: %.3f' % (key, value))"
   ]
  },
  {
   "cell_type": "code",
   "execution_count": 74,
   "metadata": {},
   "outputs": [
    {
     "data": {
      "image/png": "[encoded data removed]",
      "text/plain": [
       "<Figure size 432x288 with 1 Axes>"
      ]
     },
     "metadata": {
      "needs_background": "light"
     },
     "output_type": "display_data"
    }
   ],
   "source": [
    "plt.plot(tseries)\n",
    "# plt.tick_params(\n",
    "#     axis='x',          # changes apply to the x-axis\n",
    "#     which='both',      # both major and minor ticks are affected\n",
    "#     bottom=False,      # ticks along the bottom edge are off\n",
    "#     top=False,         # ticks along the top edge are off\n",
    "#     labelbottom=False) # labels along the bottom edge are off\n",
    "plt.xlabel('Months')\n",
    "plt.ylabel('Passengers')\n",
    "plt.title(\"Passengers - United Airlines\")\n",
    "plt.show()"
   ]
  },
  {
   "cell_type": "code",
   "execution_count": 11,
   "metadata": {},
   "outputs": [
    {
     "data": {
      "text/html": [
       "<div>\n",
       "<style scoped>\n",
       "    .dataframe tbody tr th:only-of-type {\n",
       "        vertical-align: middle;\n",
       "    }\n",
       "\n",
       "    .dataframe tbody tr th {\n",
       "        vertical-align: top;\n",
       "    }\n",
       "\n",
       "    .dataframe thead th {\n",
       "        text-align: right;\n",
       "    }\n",
       "</style>\n",
       "<table border=\"1\" class=\"dataframe\">\n",
       "  <thead>\n",
       "    <tr style=\"text-align: right;\">\n",
       "      <th></th>\n",
       "      <th>passengers</th>\n",
       "    </tr>\n",
       "  </thead>\n",
       "  <tbody>\n",
       "    <tr>\n",
       "      <th>0</th>\n",
       "      <td>213908.0</td>\n",
       "    </tr>\n",
       "    <tr>\n",
       "      <th>1</th>\n",
       "      <td>248037.0</td>\n",
       "    </tr>\n",
       "    <tr>\n",
       "      <th>2</th>\n",
       "      <td>256717.0</td>\n",
       "    </tr>\n",
       "    <tr>\n",
       "      <th>3</th>\n",
       "      <td>263538.0</td>\n",
       "    </tr>\n",
       "    <tr>\n",
       "      <th>4</th>\n",
       "      <td>287690.0</td>\n",
       "    </tr>\n",
       "    <tr>\n",
       "      <th>...</th>\n",
       "      <td>...</td>\n",
       "    </tr>\n",
       "    <tr>\n",
       "      <th>72</th>\n",
       "      <td>215463.0</td>\n",
       "    </tr>\n",
       "    <tr>\n",
       "      <th>73</th>\n",
       "      <td>98620.0</td>\n",
       "    </tr>\n",
       "    <tr>\n",
       "      <th>74</th>\n",
       "      <td>7323.0</td>\n",
       "    </tr>\n",
       "    <tr>\n",
       "      <th>75</th>\n",
       "      <td>7115.0</td>\n",
       "    </tr>\n",
       "    <tr>\n",
       "      <th>76</th>\n",
       "      <td>10522.0</td>\n",
       "    </tr>\n",
       "  </tbody>\n",
       "</table>\n",
       "<p>77 rows × 1 columns</p>\n",
       "</div>"
      ],
      "text/plain": [
       "    passengers\n",
       "0     213908.0\n",
       "1     248037.0\n",
       "2     256717.0\n",
       "3     263538.0\n",
       "4     287690.0\n",
       "..         ...\n",
       "72    215463.0\n",
       "73     98620.0\n",
       "74      7323.0\n",
       "75      7115.0\n",
       "76     10522.0\n",
       "\n",
       "[77 rows x 1 columns]"
      ]
     },
     "execution_count": 11,
     "metadata": {},
     "output_type": "execute_result"
    }
   ],
   "source": [
    "df=pd.DataFrame(tseries)\n",
    "df"
   ]
  },
  {
   "cell_type": "code",
   "execution_count": 12,
   "metadata": {},
   "outputs": [],
   "source": [
    "df = df[:62]"
   ]
  },
  {
   "cell_type": "code",
   "execution_count": 13,
   "metadata": {},
   "outputs": [
    {
     "data": {
      "text/html": [
       "<div>\n",
       "<style scoped>\n",
       "    .dataframe tbody tr th:only-of-type {\n",
       "        vertical-align: middle;\n",
       "    }\n",
       "\n",
       "    .dataframe tbody tr th {\n",
       "        vertical-align: top;\n",
       "    }\n",
       "\n",
       "    .dataframe thead th {\n",
       "        text-align: right;\n",
       "    }\n",
       "</style>\n",
       "<table border=\"1\" class=\"dataframe\">\n",
       "  <thead>\n",
       "    <tr style=\"text-align: right;\">\n",
       "      <th></th>\n",
       "      <th>passengers</th>\n",
       "    </tr>\n",
       "  </thead>\n",
       "  <tbody>\n",
       "    <tr>\n",
       "      <th>0</th>\n",
       "      <td>213908.0</td>\n",
       "    </tr>\n",
       "    <tr>\n",
       "      <th>1</th>\n",
       "      <td>248037.0</td>\n",
       "    </tr>\n",
       "    <tr>\n",
       "      <th>2</th>\n",
       "      <td>256717.0</td>\n",
       "    </tr>\n",
       "    <tr>\n",
       "      <th>3</th>\n",
       "      <td>263538.0</td>\n",
       "    </tr>\n",
       "    <tr>\n",
       "      <th>4</th>\n",
       "      <td>287690.0</td>\n",
       "    </tr>\n",
       "    <tr>\n",
       "      <th>...</th>\n",
       "      <td>...</td>\n",
       "    </tr>\n",
       "    <tr>\n",
       "      <th>57</th>\n",
       "      <td>261493.0</td>\n",
       "    </tr>\n",
       "    <tr>\n",
       "      <th>58</th>\n",
       "      <td>265472.0</td>\n",
       "    </tr>\n",
       "    <tr>\n",
       "      <th>59</th>\n",
       "      <td>228102.0</td>\n",
       "    </tr>\n",
       "    <tr>\n",
       "      <th>60</th>\n",
       "      <td>206742.0</td>\n",
       "    </tr>\n",
       "    <tr>\n",
       "      <th>61</th>\n",
       "      <td>258267.0</td>\n",
       "    </tr>\n",
       "  </tbody>\n",
       "</table>\n",
       "<p>62 rows × 1 columns</p>\n",
       "</div>"
      ],
      "text/plain": [
       "    passengers\n",
       "0     213908.0\n",
       "1     248037.0\n",
       "2     256717.0\n",
       "3     263538.0\n",
       "4     287690.0\n",
       "..         ...\n",
       "57    261493.0\n",
       "58    265472.0\n",
       "59    228102.0\n",
       "60    206742.0\n",
       "61    258267.0\n",
       "\n",
       "[62 rows x 1 columns]"
      ]
     },
     "execution_count": 13,
     "metadata": {},
     "output_type": "execute_result"
    }
   ],
   "source": [
    "df"
   ]
  },
  {
   "cell_type": "code",
   "execution_count": 14,
   "metadata": {},
   "outputs": [],
   "source": [
    "# Form dataset matrix\n",
    "def create_dataset(df, previous=1):\n",
    "    dataX, dataY = [], []\n",
    "    for i in range(len(df)-previous-1):\n",
    "        a = df[i:(i+previous), 0]\n",
    "        dataX.append(a)\n",
    "        dataY.append(df[i + previous, 0])\n",
    "    return np.array(dataX), np.array(dataY)"
   ]
  },
  {
   "cell_type": "code",
   "execution_count": 15,
   "metadata": {},
   "outputs": [
    {
     "data": {
      "text/html": [
       "<div>\n",
       "<style scoped>\n",
       "    .dataframe tbody tr th:only-of-type {\n",
       "        vertical-align: middle;\n",
       "    }\n",
       "\n",
       "    .dataframe tbody tr th {\n",
       "        vertical-align: top;\n",
       "    }\n",
       "\n",
       "    .dataframe thead th {\n",
       "        text-align: right;\n",
       "    }\n",
       "</style>\n",
       "<table border=\"1\" class=\"dataframe\">\n",
       "  <thead>\n",
       "    <tr style=\"text-align: right;\">\n",
       "      <th></th>\n",
       "      <th>passengers</th>\n",
       "    </tr>\n",
       "  </thead>\n",
       "  <tbody>\n",
       "    <tr>\n",
       "      <th>0</th>\n",
       "      <td>213908.0</td>\n",
       "    </tr>\n",
       "    <tr>\n",
       "      <th>1</th>\n",
       "      <td>248037.0</td>\n",
       "    </tr>\n",
       "    <tr>\n",
       "      <th>2</th>\n",
       "      <td>256717.0</td>\n",
       "    </tr>\n",
       "    <tr>\n",
       "      <th>3</th>\n",
       "      <td>263538.0</td>\n",
       "    </tr>\n",
       "    <tr>\n",
       "      <th>4</th>\n",
       "      <td>287690.0</td>\n",
       "    </tr>\n",
       "    <tr>\n",
       "      <th>...</th>\n",
       "      <td>...</td>\n",
       "    </tr>\n",
       "    <tr>\n",
       "      <th>57</th>\n",
       "      <td>261493.0</td>\n",
       "    </tr>\n",
       "    <tr>\n",
       "      <th>58</th>\n",
       "      <td>265472.0</td>\n",
       "    </tr>\n",
       "    <tr>\n",
       "      <th>59</th>\n",
       "      <td>228102.0</td>\n",
       "    </tr>\n",
       "    <tr>\n",
       "      <th>60</th>\n",
       "      <td>206742.0</td>\n",
       "    </tr>\n",
       "    <tr>\n",
       "      <th>61</th>\n",
       "      <td>258267.0</td>\n",
       "    </tr>\n",
       "  </tbody>\n",
       "</table>\n",
       "<p>62 rows × 1 columns</p>\n",
       "</div>"
      ],
      "text/plain": [
       "    passengers\n",
       "0     213908.0\n",
       "1     248037.0\n",
       "2     256717.0\n",
       "3     263538.0\n",
       "4     287690.0\n",
       "..         ...\n",
       "57    261493.0\n",
       "58    265472.0\n",
       "59    228102.0\n",
       "60    206742.0\n",
       "61    258267.0\n",
       "\n",
       "[62 rows x 1 columns]"
      ]
     },
     "execution_count": 15,
     "metadata": {},
     "output_type": "execute_result"
    }
   ],
   "source": [
    "df"
   ]
  },
  {
   "cell_type": "markdown",
   "metadata": {},
   "source": [
    "## Normalize dataset with MinMaxScaler"
   ]
  },
  {
   "cell_type": "code",
   "execution_count": 16,
   "metadata": {},
   "outputs": [
    {
     "data": {
      "text/plain": [
       "array([[0.10504571],\n",
       "       [0.32399679],\n",
       "       [0.37968244],\n",
       "       [0.42344186],\n",
       "       [0.57838653],\n",
       "       [0.61959262],\n",
       "       [0.66908099],\n",
       "       [0.38122855],\n",
       "       [0.42754771],\n",
       "       [0.31157658],\n",
       "       [0.4042085 ],\n",
       "       [0.090502  ],\n",
       "       [0.        ],\n",
       "       [0.37752045],\n",
       "       [0.32101363],\n",
       "       [0.45027105],\n",
       "       [0.58190217],\n",
       "       [0.70389735],\n",
       "       [0.66571291],\n",
       "       [0.47722855],\n",
       "       [0.54219727],\n",
       "       [0.38357017],\n",
       "       [0.42894627],\n",
       "       [0.22504571],\n",
       "       [0.16007057],\n",
       "       [0.42260144],\n",
       "       [0.35897354],\n",
       "       [0.46915798],\n",
       "       [0.6934146 ],\n",
       "       [0.78089495],\n",
       "       [0.78536006],\n",
       "       [0.505251  ],\n",
       "       [0.59078749],\n",
       "       [0.56640257],\n",
       "       [0.51993585],\n",
       "       [0.24401604],\n",
       "       [0.20408019],\n",
       "       [0.61590377],\n",
       "       [0.62317883],\n",
       "       [0.63324459],\n",
       "       [0.87019727],\n",
       "       [0.86574499],\n",
       "       [0.87803047],\n",
       "       [0.48527346],\n",
       "       [0.70002887],\n",
       "       [0.71443144],\n",
       "       [0.65806576],\n",
       "       [0.40472815],\n",
       "       [0.32015397],\n",
       "       [0.68234162],\n",
       "       [0.62490457],\n",
       "       [0.68359904],\n",
       "       [0.88709543],\n",
       "       [0.91444427],\n",
       "       [1.        ],\n",
       "       [0.58189575],\n",
       "       [0.64235445],\n",
       "       [0.41032237],\n",
       "       [0.43584924],\n",
       "       [0.19610585],\n",
       "       [0.05907298],\n",
       "       [0.3896263 ]])"
      ]
     },
     "execution_count": 16,
     "metadata": {},
     "output_type": "execute_result"
    }
   ],
   "source": [
    "scaler = MinMaxScaler(feature_range=(0, 1))\n",
    "df = scaler.fit_transform(df)\n",
    "df"
   ]
  },
  {
   "cell_type": "code",
   "execution_count": 17,
   "metadata": {},
   "outputs": [],
   "source": [
    "# Training and Validation data partition\n",
    "train_size = int(len(df) * 0.8)\n",
    "val_size = len(df) - train_size\n",
    "train, val = df[0:train_size,:], df[train_size:len(df),:]\n",
    "\n",
    "# Number of previous\n",
    "previous = 5\n",
    "X_train, Y_train = create_dataset(train, previous)\n",
    "X_val, Y_val = create_dataset(val, previous)"
   ]
  },
  {
   "cell_type": "code",
   "execution_count": 18,
   "metadata": {},
   "outputs": [
    {
     "data": {
      "text/plain": [
       "array([[0.10504571, 0.32399679, 0.37968244, 0.42344186, 0.57838653],\n",
       "       [0.32399679, 0.37968244, 0.42344186, 0.57838653, 0.61959262],\n",
       "       [0.37968244, 0.42344186, 0.57838653, 0.61959262, 0.66908099],\n",
       "       [0.42344186, 0.57838653, 0.61959262, 0.66908099, 0.38122855],\n",
       "       [0.57838653, 0.61959262, 0.66908099, 0.38122855, 0.42754771],\n",
       "       [0.61959262, 0.66908099, 0.38122855, 0.42754771, 0.31157658],\n",
       "       [0.66908099, 0.38122855, 0.42754771, 0.31157658, 0.4042085 ],\n",
       "       [0.38122855, 0.42754771, 0.31157658, 0.4042085 , 0.090502  ],\n",
       "       [0.42754771, 0.31157658, 0.4042085 , 0.090502  , 0.        ],\n",
       "       [0.31157658, 0.4042085 , 0.090502  , 0.        , 0.37752045],\n",
       "       [0.4042085 , 0.090502  , 0.        , 0.37752045, 0.32101363],\n",
       "       [0.090502  , 0.        , 0.37752045, 0.32101363, 0.45027105],\n",
       "       [0.        , 0.37752045, 0.32101363, 0.45027105, 0.58190217],\n",
       "       [0.37752045, 0.32101363, 0.45027105, 0.58190217, 0.70389735],\n",
       "       [0.32101363, 0.45027105, 0.58190217, 0.70389735, 0.66571291],\n",
       "       [0.45027105, 0.58190217, 0.70389735, 0.66571291, 0.47722855],\n",
       "       [0.58190217, 0.70389735, 0.66571291, 0.47722855, 0.54219727],\n",
       "       [0.70389735, 0.66571291, 0.47722855, 0.54219727, 0.38357017],\n",
       "       [0.66571291, 0.47722855, 0.54219727, 0.38357017, 0.42894627],\n",
       "       [0.47722855, 0.54219727, 0.38357017, 0.42894627, 0.22504571],\n",
       "       [0.54219727, 0.38357017, 0.42894627, 0.22504571, 0.16007057],\n",
       "       [0.38357017, 0.42894627, 0.22504571, 0.16007057, 0.42260144],\n",
       "       [0.42894627, 0.22504571, 0.16007057, 0.42260144, 0.35897354],\n",
       "       [0.22504571, 0.16007057, 0.42260144, 0.35897354, 0.46915798],\n",
       "       [0.16007057, 0.42260144, 0.35897354, 0.46915798, 0.6934146 ],\n",
       "       [0.42260144, 0.35897354, 0.46915798, 0.6934146 , 0.78089495],\n",
       "       [0.35897354, 0.46915798, 0.6934146 , 0.78089495, 0.78536006],\n",
       "       [0.46915798, 0.6934146 , 0.78089495, 0.78536006, 0.505251  ],\n",
       "       [0.6934146 , 0.78089495, 0.78536006, 0.505251  , 0.59078749],\n",
       "       [0.78089495, 0.78536006, 0.505251  , 0.59078749, 0.56640257],\n",
       "       [0.78536006, 0.505251  , 0.59078749, 0.56640257, 0.51993585],\n",
       "       [0.505251  , 0.59078749, 0.56640257, 0.51993585, 0.24401604],\n",
       "       [0.59078749, 0.56640257, 0.51993585, 0.24401604, 0.20408019],\n",
       "       [0.56640257, 0.51993585, 0.24401604, 0.20408019, 0.61590377],\n",
       "       [0.51993585, 0.24401604, 0.20408019, 0.61590377, 0.62317883],\n",
       "       [0.24401604, 0.20408019, 0.61590377, 0.62317883, 0.63324459],\n",
       "       [0.20408019, 0.61590377, 0.62317883, 0.63324459, 0.87019727],\n",
       "       [0.61590377, 0.62317883, 0.63324459, 0.87019727, 0.86574499],\n",
       "       [0.62317883, 0.63324459, 0.87019727, 0.86574499, 0.87803047],\n",
       "       [0.63324459, 0.87019727, 0.86574499, 0.87803047, 0.48527346],\n",
       "       [0.87019727, 0.86574499, 0.87803047, 0.48527346, 0.70002887],\n",
       "       [0.86574499, 0.87803047, 0.48527346, 0.70002887, 0.71443144],\n",
       "       [0.87803047, 0.48527346, 0.70002887, 0.71443144, 0.65806576]])"
      ]
     },
     "execution_count": 18,
     "metadata": {},
     "output_type": "execute_result"
    }
   ],
   "source": [
    "X_train"
   ]
  },
  {
   "cell_type": "code",
   "execution_count": 19,
   "metadata": {},
   "outputs": [
    {
     "data": {
      "text/plain": [
       "array([0.61959262, 0.66908099, 0.38122855, 0.42754771, 0.31157658,\n",
       "       0.4042085 , 0.090502  , 0.        , 0.37752045, 0.32101363,\n",
       "       0.45027105, 0.58190217, 0.70389735, 0.66571291, 0.47722855,\n",
       "       0.54219727, 0.38357017, 0.42894627, 0.22504571, 0.16007057,\n",
       "       0.42260144, 0.35897354, 0.46915798, 0.6934146 , 0.78089495,\n",
       "       0.78536006, 0.505251  , 0.59078749, 0.56640257, 0.51993585,\n",
       "       0.24401604, 0.20408019, 0.61590377, 0.62317883, 0.63324459,\n",
       "       0.87019727, 0.86574499, 0.87803047, 0.48527346, 0.70002887,\n",
       "       0.71443144, 0.65806576, 0.40472815])"
      ]
     },
     "execution_count": 19,
     "metadata": {},
     "output_type": "execute_result"
    }
   ],
   "source": [
    "Y_train"
   ]
  },
  {
   "cell_type": "markdown",
   "metadata": {},
   "source": [
    "## Configure LSTM Model"
   ]
  },
  {
   "cell_type": "code",
   "execution_count": 20,
   "metadata": {},
   "outputs": [
    {
     "name": "stdout",
     "output_type": "stream",
     "text": [
      "Epoch 1/20\n",
      "34/34 - 0s - loss: 0.1060 - val_loss: 0.1580\n",
      "Epoch 2/20\n",
      "34/34 - 0s - loss: 0.0655 - val_loss: 0.0972\n",
      "Epoch 3/20\n",
      "34/34 - 0s - loss: 0.0479 - val_loss: 0.0707\n",
      "Epoch 4/20\n",
      "34/34 - 0s - loss: 0.0416 - val_loss: 0.0602\n",
      "Epoch 5/20\n",
      "34/34 - 0s - loss: 0.0401 - val_loss: 0.0522\n",
      "Epoch 6/20\n",
      "34/34 - 0s - loss: 0.0392 - val_loss: 0.0535\n",
      "Epoch 7/20\n",
      "34/34 - 0s - loss: 0.0387 - val_loss: 0.0499\n",
      "Epoch 8/20\n",
      "34/34 - 0s - loss: 0.0376 - val_loss: 0.0512\n",
      "Epoch 9/20\n",
      "34/34 - 0s - loss: 0.0369 - val_loss: 0.0495\n",
      "Epoch 10/20\n",
      "34/34 - 0s - loss: 0.0365 - val_loss: 0.0490\n",
      "Epoch 11/20\n",
      "34/34 - 0s - loss: 0.0357 - val_loss: 0.0482\n",
      "Epoch 12/20\n",
      "34/34 - 0s - loss: 0.0350 - val_loss: 0.0480\n",
      "Epoch 13/20\n",
      "34/34 - 0s - loss: 0.0345 - val_loss: 0.0473\n",
      "Epoch 14/20\n",
      "34/34 - 0s - loss: 0.0340 - val_loss: 0.0441\n",
      "Epoch 15/20\n",
      "34/34 - 0s - loss: 0.0333 - val_loss: 0.0472\n",
      "Epoch 16/20\n",
      "34/34 - 0s - loss: 0.0331 - val_loss: 0.0449\n",
      "Epoch 17/20\n",
      "34/34 - 0s - loss: 0.0320 - val_loss: 0.0446\n",
      "Epoch 18/20\n",
      "34/34 - 0s - loss: 0.0319 - val_loss: 0.0426\n",
      "Epoch 19/20\n",
      "34/34 - 0s - loss: 0.0312 - val_loss: 0.0456\n",
      "Epoch 20/20\n",
      "34/34 - 0s - loss: 0.0308 - val_loss: 0.0438\n",
      "dict_keys(['loss', 'val_loss'])\n"
     ]
    },
    {
     "data": {
      "image/png": "[encoded data removed]",
      "text/plain": [
       "<Figure size 432x288 with 1 Axes>"
      ]
     },
     "metadata": {
      "needs_background": "light"
     },
     "output_type": "display_data"
    }
   ],
   "source": [
    "# reshape input to be [samples, time steps, features]\n",
    "X_train = np.reshape(X_train, (X_train.shape[0], 1, X_train.shape[1]))\n",
    "X_val = np.reshape(X_val, (X_val.shape[0], 1, X_val.shape[1]))\n",
    "\n",
    "# Generate LSTM network\n",
    "model = tf.keras.Sequential()\n",
    "model.add(LSTM(4, input_shape=(1, previous)))\n",
    "model.add(Dense(1))\n",
    "model.compile(loss='mean_squared_error', optimizer='adam')\n",
    "history=model.fit(X_train, Y_train, validation_split=0.2, epochs=20, batch_size=1, verbose=2)\n",
    "\n",
    "\n",
    "# list all data in history\n",
    "print(history.history.keys())\n",
    "# summarize history for accuracy\n",
    "plt.plot(history.history['loss'])\n",
    "plt.plot(history.history['val_loss'])\n",
    "plt.title('model loss')\n",
    "plt.ylabel('loss')\n",
    "plt.xlabel('epoch')\n",
    "plt.legend(['train', 'val'], loc='upper left')\n",
    "plt.show()"
   ]
  },
  {
   "cell_type": "code",
   "execution_count": 21,
   "metadata": {},
   "outputs": [],
   "source": [
    "# Generate predictions\n",
    "trainpred = model.predict(X_train)\n",
    "valpred = model.predict(X_val)"
   ]
  },
  {
   "cell_type": "code",
   "execution_count": 22,
   "metadata": {},
   "outputs": [
    {
     "data": {
      "text/plain": [
       "array([[0.4595371 ],\n",
       "       [0.49102938],\n",
       "       [0.5278658 ],\n",
       "       [0.44766772],\n",
       "       [0.4828446 ],\n",
       "       [0.42756432],\n",
       "       [0.4326343 ],\n",
       "       [0.30325332],\n",
       "       [0.2648139 ],\n",
       "       [0.38466337],\n",
       "       [0.3213155 ],\n",
       "       [0.37278917],\n",
       "       [0.45686138],\n",
       "       [0.517657  ],\n",
       "       [0.52611417],\n",
       "       [0.49044138],\n",
       "       [0.5308154 ],\n",
       "       [0.46310148],\n",
       "       [0.4614107 ],\n",
       "       [0.37578863],\n",
       "       [0.3402666 ],\n",
       "       [0.41704592],\n",
       "       [0.36542276],\n",
       "       [0.4094181 ],\n",
       "       [0.5108535 ],\n",
       "       [0.5489705 ],\n",
       "       [0.5787942 ],\n",
       "       [0.51849836],\n",
       "       [0.5687223 ],\n",
       "       [0.5394905 ],\n",
       "       [0.50341725],\n",
       "       [0.40150064],\n",
       "       [0.38662407],\n",
       "       [0.49782857],\n",
       "       [0.46222106],\n",
       "       [0.48586378],\n",
       "       [0.6109033 ],\n",
       "       [0.62154365],\n",
       "       [0.6491669 ],\n",
       "       [0.5459964 ],\n",
       "       [0.62358636],\n",
       "       [0.5913641 ],\n",
       "       [0.5580135 ]], dtype=float32)"
      ]
     },
     "execution_count": 22,
     "metadata": {},
     "output_type": "execute_result"
    }
   ],
   "source": [
    "trainpred"
   ]
  },
  {
   "cell_type": "code",
   "execution_count": 23,
   "metadata": {},
   "outputs": [
    {
     "data": {
      "text/plain": [
       "array([[0.6423091 ],\n",
       "       [0.6908108 ],\n",
       "       [0.58625823],\n",
       "       [0.62277496],\n",
       "       [0.5237173 ],\n",
       "       [0.49603993],\n",
       "       [0.3847999 ]], dtype=float32)"
      ]
     },
     "execution_count": 23,
     "metadata": {},
     "output_type": "execute_result"
    }
   ],
   "source": [
    "valpred"
   ]
  },
  {
   "cell_type": "code",
   "execution_count": 24,
   "metadata": {},
   "outputs": [],
   "source": [
    "# Convert predictions back to normal values\n",
    "trainpred = scaler.inverse_transform(trainpred)\n",
    "Y_train = scaler.inverse_transform([Y_train])\n",
    "valpred = scaler.inverse_transform(valpred)\n",
    "Y_val = scaler.inverse_transform([Y_val])\n",
    "predictions = valpred"
   ]
  },
  {
   "cell_type": "code",
   "execution_count": 75,
   "metadata": {},
   "outputs": [
    {
     "data": {
      "text/plain": [
       "271588.0"
      ]
     },
     "execution_count": 75,
     "metadata": {},
     "output_type": "execute_result"
    }
   ],
   "source": [
    "np.mean(Y_val)"
   ]
  },
  {
   "cell_type": "code",
   "execution_count": 25,
   "metadata": {},
   "outputs": [
    {
     "data": {
      "text/plain": [
       "(1, 43)"
      ]
     },
     "execution_count": 25,
     "metadata": {},
     "output_type": "execute_result"
    }
   ],
   "source": [
    "Y_train.shape"
   ]
  },
  {
   "cell_type": "code",
   "execution_count": 26,
   "metadata": {},
   "outputs": [
    {
     "data": {
      "text/plain": [
       "(1, 7)"
      ]
     },
     "execution_count": 26,
     "metadata": {},
     "output_type": "execute_result"
    }
   ],
   "source": [
    "Y_val.shape"
   ]
  },
  {
   "cell_type": "code",
   "execution_count": 27,
   "metadata": {},
   "outputs": [
    {
     "data": {
      "text/plain": [
       "(43, 1, 5)"
      ]
     },
     "execution_count": 27,
     "metadata": {},
     "output_type": "execute_result"
    }
   ],
   "source": [
    "X_train.shape"
   ]
  },
  {
   "cell_type": "code",
   "execution_count": 28,
   "metadata": {},
   "outputs": [
    {
     "data": {
      "text/plain": [
       "(7, 1, 5)"
      ]
     },
     "execution_count": 28,
     "metadata": {},
     "output_type": "execute_result"
    }
   ],
   "source": [
    "X_val.shape"
   ]
  },
  {
   "cell_type": "code",
   "execution_count": 29,
   "metadata": {},
   "outputs": [
    {
     "data": {
      "text/plain": [
       "array([[294113., 301827., 256958., 264178., 246101., 260540., 211641.,\n",
       "        197534., 256380., 247572., 267720., 288238., 307254., 301302.,\n",
       "        271922., 282049., 257323., 264396., 232613., 222485., 263407.,\n",
       "        253489., 270664., 305620., 319256., 319952., 276290., 289623.,\n",
       "        285822., 278579., 235570., 229345., 293538., 294672., 296241.,\n",
       "        333176., 332482., 334397., 273176., 306651., 308896., 300110.,\n",
       "        260621.]])"
      ]
     },
     "execution_count": 29,
     "metadata": {},
     "output_type": "execute_result"
    }
   ],
   "source": [
    "Y_train"
   ]
  },
  {
   "cell_type": "code",
   "execution_count": 30,
   "metadata": {},
   "outputs": [
    {
     "data": {
      "text/plain": [
       "array([[353409., 288237., 297661., 261493., 265472., 228102., 206742.]])"
      ]
     },
     "execution_count": 30,
     "metadata": {},
     "output_type": "execute_result"
    }
   ],
   "source": [
    "Y_val"
   ]
  },
  {
   "cell_type": "code",
   "execution_count": 31,
   "metadata": {},
   "outputs": [
    {
     "data": {
      "text/plain": [
       "array([[[0.10504571, 0.32399679, 0.37968244, 0.42344186, 0.57838653]],\n",
       "\n",
       "       [[0.32399679, 0.37968244, 0.42344186, 0.57838653, 0.61959262]],\n",
       "\n",
       "       [[0.37968244, 0.42344186, 0.57838653, 0.61959262, 0.66908099]],\n",
       "\n",
       "       [[0.42344186, 0.57838653, 0.61959262, 0.66908099, 0.38122855]],\n",
       "\n",
       "       [[0.57838653, 0.61959262, 0.66908099, 0.38122855, 0.42754771]],\n",
       "\n",
       "       [[0.61959262, 0.66908099, 0.38122855, 0.42754771, 0.31157658]],\n",
       "\n",
       "       [[0.66908099, 0.38122855, 0.42754771, 0.31157658, 0.4042085 ]],\n",
       "\n",
       "       [[0.38122855, 0.42754771, 0.31157658, 0.4042085 , 0.090502  ]],\n",
       "\n",
       "       [[0.42754771, 0.31157658, 0.4042085 , 0.090502  , 0.        ]],\n",
       "\n",
       "       [[0.31157658, 0.4042085 , 0.090502  , 0.        , 0.37752045]],\n",
       "\n",
       "       [[0.4042085 , 0.090502  , 0.        , 0.37752045, 0.32101363]],\n",
       "\n",
       "       [[0.090502  , 0.        , 0.37752045, 0.32101363, 0.45027105]],\n",
       "\n",
       "       [[0.        , 0.37752045, 0.32101363, 0.45027105, 0.58190217]],\n",
       "\n",
       "       [[0.37752045, 0.32101363, 0.45027105, 0.58190217, 0.70389735]],\n",
       "\n",
       "       [[0.32101363, 0.45027105, 0.58190217, 0.70389735, 0.66571291]],\n",
       "\n",
       "       [[0.45027105, 0.58190217, 0.70389735, 0.66571291, 0.47722855]],\n",
       "\n",
       "       [[0.58190217, 0.70389735, 0.66571291, 0.47722855, 0.54219727]],\n",
       "\n",
       "       [[0.70389735, 0.66571291, 0.47722855, 0.54219727, 0.38357017]],\n",
       "\n",
       "       [[0.66571291, 0.47722855, 0.54219727, 0.38357017, 0.42894627]],\n",
       "\n",
       "       [[0.47722855, 0.54219727, 0.38357017, 0.42894627, 0.22504571]],\n",
       "\n",
       "       [[0.54219727, 0.38357017, 0.42894627, 0.22504571, 0.16007057]],\n",
       "\n",
       "       [[0.38357017, 0.42894627, 0.22504571, 0.16007057, 0.42260144]],\n",
       "\n",
       "       [[0.42894627, 0.22504571, 0.16007057, 0.42260144, 0.35897354]],\n",
       "\n",
       "       [[0.22504571, 0.16007057, 0.42260144, 0.35897354, 0.46915798]],\n",
       "\n",
       "       [[0.16007057, 0.42260144, 0.35897354, 0.46915798, 0.6934146 ]],\n",
       "\n",
       "       [[0.42260144, 0.35897354, 0.46915798, 0.6934146 , 0.78089495]],\n",
       "\n",
       "       [[0.35897354, 0.46915798, 0.6934146 , 0.78089495, 0.78536006]],\n",
       "\n",
       "       [[0.46915798, 0.6934146 , 0.78089495, 0.78536006, 0.505251  ]],\n",
       "\n",
       "       [[0.6934146 , 0.78089495, 0.78536006, 0.505251  , 0.59078749]],\n",
       "\n",
       "       [[0.78089495, 0.78536006, 0.505251  , 0.59078749, 0.56640257]],\n",
       "\n",
       "       [[0.78536006, 0.505251  , 0.59078749, 0.56640257, 0.51993585]],\n",
       "\n",
       "       [[0.505251  , 0.59078749, 0.56640257, 0.51993585, 0.24401604]],\n",
       "\n",
       "       [[0.59078749, 0.56640257, 0.51993585, 0.24401604, 0.20408019]],\n",
       "\n",
       "       [[0.56640257, 0.51993585, 0.24401604, 0.20408019, 0.61590377]],\n",
       "\n",
       "       [[0.51993585, 0.24401604, 0.20408019, 0.61590377, 0.62317883]],\n",
       "\n",
       "       [[0.24401604, 0.20408019, 0.61590377, 0.62317883, 0.63324459]],\n",
       "\n",
       "       [[0.20408019, 0.61590377, 0.62317883, 0.63324459, 0.87019727]],\n",
       "\n",
       "       [[0.61590377, 0.62317883, 0.63324459, 0.87019727, 0.86574499]],\n",
       "\n",
       "       [[0.62317883, 0.63324459, 0.87019727, 0.86574499, 0.87803047]],\n",
       "\n",
       "       [[0.63324459, 0.87019727, 0.86574499, 0.87803047, 0.48527346]],\n",
       "\n",
       "       [[0.87019727, 0.86574499, 0.87803047, 0.48527346, 0.70002887]],\n",
       "\n",
       "       [[0.86574499, 0.87803047, 0.48527346, 0.70002887, 0.71443144]],\n",
       "\n",
       "       [[0.87803047, 0.48527346, 0.70002887, 0.71443144, 0.65806576]]])"
      ]
     },
     "execution_count": 31,
     "metadata": {},
     "output_type": "execute_result"
    }
   ],
   "source": [
    "X_train"
   ]
  },
  {
   "cell_type": "code",
   "execution_count": 32,
   "metadata": {},
   "outputs": [
    {
     "data": {
      "text/plain": [
       "array([[[0.68234162, 0.62490457, 0.68359904, 0.88709543, 0.91444427]],\n",
       "\n",
       "       [[0.62490457, 0.68359904, 0.88709543, 0.91444427, 1.        ]],\n",
       "\n",
       "       [[0.68359904, 0.88709543, 0.91444427, 1.        , 0.58189575]],\n",
       "\n",
       "       [[0.88709543, 0.91444427, 1.        , 0.58189575, 0.64235445]],\n",
       "\n",
       "       [[0.91444427, 1.        , 0.58189575, 0.64235445, 0.41032237]],\n",
       "\n",
       "       [[1.        , 0.58189575, 0.64235445, 0.41032237, 0.43584924]],\n",
       "\n",
       "       [[0.58189575, 0.64235445, 0.41032237, 0.43584924, 0.19610585]]])"
      ]
     },
     "execution_count": 32,
     "metadata": {},
     "output_type": "execute_result"
    }
   ],
   "source": [
    "X_val"
   ]
  },
  {
   "cell_type": "code",
   "execution_count": 33,
   "metadata": {},
   "outputs": [
    {
     "name": "stdout",
     "output_type": "stream",
     "text": [
      "Train Score: 28315.24 RMSE\n",
      "Validation Score: 36880.52 RMSE\n"
     ]
    }
   ],
   "source": [
    "# calculate RMSE\n",
    "trainScore = math.sqrt(mean_squared_error(Y_train[0], trainpred[:,0]))\n",
    "print('Train Score: %.2f RMSE' % (trainScore))\n",
    "valScore = math.sqrt(mean_squared_error(Y_val[0], valpred[:,0]))\n",
    "print('Validation Score: %.2f RMSE' % (valScore))"
   ]
  },
  {
   "cell_type": "code",
   "execution_count": 34,
   "metadata": {},
   "outputs": [],
   "source": [
    "# Train predictions\n",
    "trainpredPlot = np.empty_like(df)\n",
    "trainpredPlot[:, :] = np.nan\n",
    "trainpredPlot[previous:len(trainpred)+previous, :] = trainpred"
   ]
  },
  {
   "cell_type": "code",
   "execution_count": 35,
   "metadata": {},
   "outputs": [],
   "source": [
    "# Validation predictions\n",
    "valpredPlot = np.empty_like(df)\n",
    "valpredPlot[:, :] = np.nan\n",
    "valpredPlot[len(trainpred)+(previous*2)+1:len(df)-1, :] = valpred"
   ]
  },
  {
   "cell_type": "code",
   "execution_count": 36,
   "metadata": {},
   "outputs": [
    {
     "data": {
      "image/png": "[encoded data removed]",
      "text/plain": [
       "<Figure size 432x288 with 1 Axes>"
      ]
     },
     "metadata": {
      "needs_background": "light"
     },
     "output_type": "display_data"
    }
   ],
   "source": [
    "# Plot all predictions\n",
    "inversetransform, =plt.plot(scaler.inverse_transform(df))\n",
    "trainpred, =plt.plot(trainpredPlot)\n",
    "valpred, =plt.plot(valpredPlot)\n",
    "plt.xlabel('Months')\n",
    "plt.ylabel('Passenger Numbers')\n",
    "plt.title(\"Predicted vs. Actual Passenger Numbers\")\n",
    "plt.show()"
   ]
  },
  {
   "cell_type": "code",
   "execution_count": 37,
   "metadata": {},
   "outputs": [],
   "source": [
    "Y_val=Y_val.reshape(-1)\n",
    "Y_val.shape\n",
    "Y_val=pd.Series(Y_val)"
   ]
  },
  {
   "cell_type": "code",
   "execution_count": 38,
   "metadata": {},
   "outputs": [
    {
     "data": {
      "text/plain": [
       "0    353409.0\n",
       "1    288237.0\n",
       "2    297661.0\n",
       "3    261493.0\n",
       "4    265472.0\n",
       "5    228102.0\n",
       "6    206742.0\n",
       "dtype: float64"
      ]
     },
     "execution_count": 38,
     "metadata": {},
     "output_type": "execute_result"
    }
   ],
   "source": [
    "Y_val"
   ]
  },
  {
   "cell_type": "code",
   "execution_count": 39,
   "metadata": {},
   "outputs": [],
   "source": [
    "predictions=predictions.reshape(-1)\n",
    "predictions.shape\n",
    "predictions=pd.Series(predictions)"
   ]
  },
  {
   "cell_type": "code",
   "execution_count": 40,
   "metadata": {},
   "outputs": [
    {
     "data": {
      "text/plain": [
       "0    297653.93750\n",
       "1    305214.12500\n",
       "2    288917.00000\n",
       "3    294609.03125\n",
       "4    279168.43750\n",
       "5    274854.21875\n",
       "6    257514.68750\n",
       "dtype: float32"
      ]
     },
     "execution_count": 40,
     "metadata": {},
     "output_type": "execute_result"
    }
   ],
   "source": [
    "predictions"
   ]
  },
  {
   "cell_type": "code",
   "execution_count": 41,
   "metadata": {},
   "outputs": [],
   "source": [
    "import numpy as np\n",
    "\n",
    "def mda(actual: np.ndarray, predicted: np.ndarray):\n",
    "    \"\"\" Mean Directional Accuracy \"\"\"\n",
    "    return np.mean((np.sign(actual[1:] - actual[:-1]) == np.sign(predicted[1:] - predicted[:-1])).astype(int))"
   ]
  },
  {
   "cell_type": "code",
   "execution_count": 42,
   "metadata": {},
   "outputs": [
    {
     "data": {
      "text/plain": [
       "0.7142857142857143"
      ]
     },
     "execution_count": 42,
     "metadata": {},
     "output_type": "execute_result"
    }
   ],
   "source": [
    "mda(Y_val, predictions)"
   ]
  },
  {
   "cell_type": "code",
   "execution_count": 43,
   "metadata": {},
   "outputs": [
    {
     "name": "stdout",
     "output_type": "stream",
     "text": [
      "RMSE: 36880.515536\n"
     ]
    }
   ],
   "source": [
    "# https://machinelearningmastery.com/time-series-forecasting-performance-measures-with-python/\n",
    "\n",
    "mse = mean_squared_error(Y_val, predictions)\n",
    "rmse = sqrt(mse)\n",
    "print('RMSE: %f' % rmse)"
   ]
  },
  {
   "cell_type": "code",
   "execution_count": 44,
   "metadata": {},
   "outputs": [
    {
     "data": {
      "text/plain": [
       "0   -55755.06250\n",
       "1    16977.12500\n",
       "2    -8744.00000\n",
       "3    33116.03125\n",
       "4    13696.43750\n",
       "5    46752.21875\n",
       "6    50772.68750\n",
       "dtype: float64"
      ]
     },
     "execution_count": 44,
     "metadata": {},
     "output_type": "execute_result"
    }
   ],
   "source": [
    "forecast_error = (predictions-Y_val)\n",
    "forecast_error"
   ]
  },
  {
   "cell_type": "code",
   "execution_count": 45,
   "metadata": {},
   "outputs": [
    {
     "data": {
      "text/plain": [
       "13830.776785714286"
      ]
     },
     "execution_count": 45,
     "metadata": {},
     "output_type": "execute_result"
    }
   ],
   "source": [
    "mean_forecast_error = np.mean(forecast_error)\n",
    "mean_forecast_error"
   ]
  },
  {
   "cell_type": "code",
   "execution_count": 46,
   "metadata": {},
   "outputs": [
    {
     "data": {
      "text/plain": [
       "array([[[0.10504571, 0.32399679, 0.37968244, 0.42344186, 0.57838653]],\n",
       "\n",
       "       [[0.32399679, 0.37968244, 0.42344186, 0.57838653, 0.61959262]],\n",
       "\n",
       "       [[0.37968244, 0.42344186, 0.57838653, 0.61959262, 0.66908099]],\n",
       "\n",
       "       [[0.42344186, 0.57838653, 0.61959262, 0.66908099, 0.38122855]],\n",
       "\n",
       "       [[0.57838653, 0.61959262, 0.66908099, 0.38122855, 0.42754771]],\n",
       "\n",
       "       [[0.61959262, 0.66908099, 0.38122855, 0.42754771, 0.31157658]],\n",
       "\n",
       "       [[0.66908099, 0.38122855, 0.42754771, 0.31157658, 0.4042085 ]],\n",
       "\n",
       "       [[0.38122855, 0.42754771, 0.31157658, 0.4042085 , 0.090502  ]],\n",
       "\n",
       "       [[0.42754771, 0.31157658, 0.4042085 , 0.090502  , 0.        ]],\n",
       "\n",
       "       [[0.31157658, 0.4042085 , 0.090502  , 0.        , 0.37752045]],\n",
       "\n",
       "       [[0.4042085 , 0.090502  , 0.        , 0.37752045, 0.32101363]],\n",
       "\n",
       "       [[0.090502  , 0.        , 0.37752045, 0.32101363, 0.45027105]],\n",
       "\n",
       "       [[0.        , 0.37752045, 0.32101363, 0.45027105, 0.58190217]],\n",
       "\n",
       "       [[0.37752045, 0.32101363, 0.45027105, 0.58190217, 0.70389735]],\n",
       "\n",
       "       [[0.32101363, 0.45027105, 0.58190217, 0.70389735, 0.66571291]],\n",
       "\n",
       "       [[0.45027105, 0.58190217, 0.70389735, 0.66571291, 0.47722855]],\n",
       "\n",
       "       [[0.58190217, 0.70389735, 0.66571291, 0.47722855, 0.54219727]],\n",
       "\n",
       "       [[0.70389735, 0.66571291, 0.47722855, 0.54219727, 0.38357017]],\n",
       "\n",
       "       [[0.66571291, 0.47722855, 0.54219727, 0.38357017, 0.42894627]],\n",
       "\n",
       "       [[0.47722855, 0.54219727, 0.38357017, 0.42894627, 0.22504571]],\n",
       "\n",
       "       [[0.54219727, 0.38357017, 0.42894627, 0.22504571, 0.16007057]],\n",
       "\n",
       "       [[0.38357017, 0.42894627, 0.22504571, 0.16007057, 0.42260144]],\n",
       "\n",
       "       [[0.42894627, 0.22504571, 0.16007057, 0.42260144, 0.35897354]],\n",
       "\n",
       "       [[0.22504571, 0.16007057, 0.42260144, 0.35897354, 0.46915798]],\n",
       "\n",
       "       [[0.16007057, 0.42260144, 0.35897354, 0.46915798, 0.6934146 ]],\n",
       "\n",
       "       [[0.42260144, 0.35897354, 0.46915798, 0.6934146 , 0.78089495]],\n",
       "\n",
       "       [[0.35897354, 0.46915798, 0.6934146 , 0.78089495, 0.78536006]],\n",
       "\n",
       "       [[0.46915798, 0.6934146 , 0.78089495, 0.78536006, 0.505251  ]],\n",
       "\n",
       "       [[0.6934146 , 0.78089495, 0.78536006, 0.505251  , 0.59078749]],\n",
       "\n",
       "       [[0.78089495, 0.78536006, 0.505251  , 0.59078749, 0.56640257]],\n",
       "\n",
       "       [[0.78536006, 0.505251  , 0.59078749, 0.56640257, 0.51993585]],\n",
       "\n",
       "       [[0.505251  , 0.59078749, 0.56640257, 0.51993585, 0.24401604]],\n",
       "\n",
       "       [[0.59078749, 0.56640257, 0.51993585, 0.24401604, 0.20408019]],\n",
       "\n",
       "       [[0.56640257, 0.51993585, 0.24401604, 0.20408019, 0.61590377]],\n",
       "\n",
       "       [[0.51993585, 0.24401604, 0.20408019, 0.61590377, 0.62317883]],\n",
       "\n",
       "       [[0.24401604, 0.20408019, 0.61590377, 0.62317883, 0.63324459]],\n",
       "\n",
       "       [[0.20408019, 0.61590377, 0.62317883, 0.63324459, 0.87019727]],\n",
       "\n",
       "       [[0.61590377, 0.62317883, 0.63324459, 0.87019727, 0.86574499]],\n",
       "\n",
       "       [[0.62317883, 0.63324459, 0.87019727, 0.86574499, 0.87803047]],\n",
       "\n",
       "       [[0.63324459, 0.87019727, 0.86574499, 0.87803047, 0.48527346]],\n",
       "\n",
       "       [[0.87019727, 0.86574499, 0.87803047, 0.48527346, 0.70002887]],\n",
       "\n",
       "       [[0.86574499, 0.87803047, 0.48527346, 0.70002887, 0.71443144]],\n",
       "\n",
       "       [[0.87803047, 0.48527346, 0.70002887, 0.71443144, 0.65806576]]])"
      ]
     },
     "execution_count": 46,
     "metadata": {},
     "output_type": "execute_result"
    }
   ],
   "source": [
    "X_train"
   ]
  },
  {
   "cell_type": "code",
   "execution_count": 47,
   "metadata": {},
   "outputs": [
    {
     "data": {
      "text/plain": [
       "(43, 1, 5)"
      ]
     },
     "execution_count": 47,
     "metadata": {},
     "output_type": "execute_result"
    }
   ],
   "source": [
    "X_train.shape"
   ]
  },
  {
   "cell_type": "code",
   "execution_count": 48,
   "metadata": {},
   "outputs": [
    {
     "data": {
      "text/plain": [
       "0     213908.0\n",
       "1     248037.0\n",
       "2     256717.0\n",
       "3     263538.0\n",
       "4     287690.0\n",
       "        ...   \n",
       "72    215463.0\n",
       "73     98620.0\n",
       "74      7323.0\n",
       "75      7115.0\n",
       "76     10522.0\n",
       "Name: passengers, Length: 77, dtype: float64"
      ]
     },
     "execution_count": 48,
     "metadata": {},
     "output_type": "execute_result"
    }
   ],
   "source": [
    "tseries"
   ]
  },
  {
   "cell_type": "markdown",
   "metadata": {},
   "source": [
    "## Validate predictions on test data"
   ]
  },
  {
   "cell_type": "code",
   "execution_count": 49,
   "metadata": {},
   "outputs": [],
   "source": [
    "Xnew = np.array([tseries.iloc[58:63],tseries.iloc[59:64],tseries.iloc[60:65],tseries.iloc[61:66],tseries.iloc[62:67],tseries.iloc[63:68],tseries.iloc[64:69],tseries.iloc[65:70],tseries.iloc[66:71],tseries.iloc[67:72],tseries.iloc[68:73],tseries.iloc[69:74],tseries.iloc[70:75],tseries.iloc[71:76],tseries.iloc[72:77]])"
   ]
  },
  {
   "cell_type": "code",
   "execution_count": 50,
   "metadata": {},
   "outputs": [
    {
     "data": {
      "text/plain": [
       "array([[265472., 228102., 206742., 258267., 268624.],\n",
       "       [228102., 206742., 258267., 268624., 257574.],\n",
       "       [206742., 258267., 268624., 257574., 296899.],\n",
       "       [258267., 268624., 257574., 296899., 322605.],\n",
       "       [268624., 257574., 296899., 322605., 341150.],\n",
       "       [257574., 296899., 322605., 341150., 233633.],\n",
       "       [296899., 322605., 341150., 233633., 284875.],\n",
       "       [322605., 341150., 233633., 284875., 273015.],\n",
       "       [341150., 233633., 284875., 273015., 286655.],\n",
       "       [233633., 284875., 273015., 286655., 231547.],\n",
       "       [284875., 273015., 286655., 231547., 215463.],\n",
       "       [273015., 286655., 231547., 215463.,  98620.],\n",
       "       [286655., 231547., 215463.,  98620.,   7323.],\n",
       "       [231547., 215463.,  98620.,   7323.,   7115.],\n",
       "       [215463.,  98620.,   7323.,   7115.,  10522.]])"
      ]
     },
     "execution_count": 50,
     "metadata": {},
     "output_type": "execute_result"
    }
   ],
   "source": [
    "Xnew"
   ]
  },
  {
   "cell_type": "code",
   "execution_count": 51,
   "metadata": {},
   "outputs": [],
   "source": [
    "Xnew = scaler.fit_transform(Xnew)\n",
    "Xnew\n",
    "Xnewformat = np.reshape(Xnew, (Xnew.shape[0], 1, Xnew.shape[1]))\n",
    "ynew=model.predict(Xnewformat)"
   ]
  },
  {
   "cell_type": "code",
   "execution_count": 52,
   "metadata": {},
   "outputs": [
    {
     "data": {
      "text/plain": [
       "(15, 5)"
      ]
     },
     "execution_count": 52,
     "metadata": {},
     "output_type": "execute_result"
    }
   ],
   "source": [
    "Xnew.shape"
   ]
  },
  {
   "cell_type": "code",
   "execution_count": 53,
   "metadata": {},
   "outputs": [
    {
     "data": {
      "text/plain": [
       "array([[0.5796909 ],\n",
       "       [0.55899334],\n",
       "       [0.6160895 ],\n",
       "       [0.65674883],\n",
       "       [0.6818766 ],\n",
       "       [0.59662133],\n",
       "       [0.6735954 ],\n",
       "       [0.6441346 ],\n",
       "       [0.6347825 ],\n",
       "       [0.5701845 ],\n",
       "       [0.5731518 ],\n",
       "       [0.4394077 ],\n",
       "       [0.31562945],\n",
       "       [0.2639171 ],\n",
       "       [0.18708268]], dtype=float32)"
      ]
     },
     "execution_count": 53,
     "metadata": {},
     "output_type": "execute_result"
    }
   ],
   "source": [
    "ynew"
   ]
  },
  {
   "cell_type": "code",
   "execution_count": 54,
   "metadata": {},
   "outputs": [
    {
     "data": {
      "text/plain": [
       "numpy.ndarray"
      ]
     },
     "execution_count": 54,
     "metadata": {},
     "output_type": "execute_result"
    }
   ],
   "source": [
    "type(ynew)"
   ]
  },
  {
   "cell_type": "code",
   "execution_count": 55,
   "metadata": {},
   "outputs": [
    {
     "data": {
      "text/plain": [
       "(15, 1)"
      ]
     },
     "execution_count": 55,
     "metadata": {},
     "output_type": "execute_result"
    }
   ],
   "source": [
    "ynew.shape"
   ]
  },
  {
   "cell_type": "code",
   "execution_count": 56,
   "metadata": {},
   "outputs": [
    {
     "data": {
      "text/plain": [
       "62    268624.0\n",
       "63    257574.0\n",
       "64    296899.0\n",
       "65    322605.0\n",
       "66    341150.0\n",
       "67    233633.0\n",
       "68    284875.0\n",
       "69    273015.0\n",
       "70    286655.0\n",
       "71    231547.0\n",
       "72    215463.0\n",
       "73     98620.0\n",
       "74      7323.0\n",
       "75      7115.0\n",
       "76     10522.0\n",
       "Name: passengers, dtype: float64"
      ]
     },
     "execution_count": 56,
     "metadata": {},
     "output_type": "execute_result"
    }
   ],
   "source": [
    "actual = tseries.iloc[62:77]\n",
    "actual"
   ]
  },
  {
   "cell_type": "code",
   "execution_count": 57,
   "metadata": {},
   "outputs": [
    {
     "data": {
      "text/plain": [
       "array([268624., 257574., 296899., 322605., 341150., 233633., 284875.,\n",
       "       273015., 286655., 231547., 215463.,  98620.,   7323.,   7115.,\n",
       "        10522.])"
      ]
     },
     "execution_count": 57,
     "metadata": {},
     "output_type": "execute_result"
    }
   ],
   "source": [
    "actual = np.array(actual)\n",
    "actual"
   ]
  },
  {
   "cell_type": "code",
   "execution_count": 58,
   "metadata": {},
   "outputs": [
    {
     "data": {
      "text/plain": [
       "(15, 1)"
      ]
     },
     "execution_count": 58,
     "metadata": {},
     "output_type": "execute_result"
    }
   ],
   "source": [
    "actual=actual.reshape(15,-1)\n",
    "actual.shape"
   ]
  },
  {
   "cell_type": "code",
   "execution_count": 59,
   "metadata": {},
   "outputs": [
    {
     "data": {
      "text/plain": [
       "array([[268624.],\n",
       "       [257574.],\n",
       "       [296899.],\n",
       "       [322605.],\n",
       "       [341150.],\n",
       "       [233633.],\n",
       "       [284875.],\n",
       "       [273015.],\n",
       "       [286655.],\n",
       "       [231547.],\n",
       "       [215463.],\n",
       "       [ 98620.],\n",
       "       [  7323.],\n",
       "       [  7115.],\n",
       "       [ 10522.]])"
      ]
     },
     "execution_count": 59,
     "metadata": {},
     "output_type": "execute_result"
    }
   ],
   "source": [
    "actual"
   ]
  },
  {
   "cell_type": "code",
   "execution_count": 60,
   "metadata": {},
   "outputs": [],
   "source": [
    "ynew=ynew.reshape(-1)\n",
    "actual=actual.reshape(-1)\n",
    "actualpd=pd.Series(actual)"
   ]
  },
  {
   "cell_type": "code",
   "execution_count": 61,
   "metadata": {},
   "outputs": [
    {
     "data": {
      "text/plain": [
       "0.0"
      ]
     },
     "execution_count": 61,
     "metadata": {},
     "output_type": "execute_result"
    }
   ],
   "source": [
    "np.min(df)"
   ]
  },
  {
   "cell_type": "code",
   "execution_count": 62,
   "metadata": {},
   "outputs": [
    {
     "data": {
      "text/plain": [
       "array([0.5796909 , 0.55899334, 0.6160895 , 0.65674883, 0.6818766 ,\n",
       "       0.59662133, 0.6735954 , 0.6441346 , 0.6347825 , 0.5701845 ,\n",
       "       0.5731518 , 0.4394077 , 0.31562945, 0.2639171 , 0.18708268],\n",
       "      dtype=float32)"
      ]
     },
     "execution_count": 62,
     "metadata": {},
     "output_type": "execute_result"
    }
   ],
   "source": [
    "ynew"
   ]
  },
  {
   "cell_type": "code",
   "execution_count": 63,
   "metadata": {},
   "outputs": [
    {
     "data": {
      "text/plain": [
       "353409.0"
      ]
     },
     "execution_count": 63,
     "metadata": {},
     "output_type": "execute_result"
    }
   ],
   "source": [
    "maxt=np.max(tseries)\n",
    "maxt"
   ]
  },
  {
   "cell_type": "code",
   "execution_count": 64,
   "metadata": {},
   "outputs": [
    {
     "data": {
      "text/plain": [
       "7115.0"
      ]
     },
     "execution_count": 64,
     "metadata": {},
     "output_type": "execute_result"
    }
   ],
   "source": [
    "mint=np.min(tseries)\n",
    "mint"
   ]
  },
  {
   "cell_type": "code",
   "execution_count": 65,
   "metadata": {},
   "outputs": [],
   "source": [
    "ynew = ynew * np.abs(maxt-mint) + np.min(tseries)\n",
    "ynewpd=pd.Series(ynew)"
   ]
  },
  {
   "cell_type": "code",
   "execution_count": 66,
   "metadata": {},
   "outputs": [
    {
     "data": {
      "text/plain": [
       "0     268624.0\n",
       "1     257574.0\n",
       "2     296899.0\n",
       "3     322605.0\n",
       "4     341150.0\n",
       "5     233633.0\n",
       "6     284875.0\n",
       "7     273015.0\n",
       "8     286655.0\n",
       "9     231547.0\n",
       "10    215463.0\n",
       "11     98620.0\n",
       "12      7323.0\n",
       "13      7115.0\n",
       "14     10522.0\n",
       "dtype: float64"
      ]
     },
     "execution_count": 66,
     "metadata": {},
     "output_type": "execute_result"
    }
   ],
   "source": [
    "actualpd"
   ]
  },
  {
   "cell_type": "code",
   "execution_count": 67,
   "metadata": {},
   "outputs": [
    {
     "data": {
      "text/plain": [
       "0     207858.468750\n",
       "1     200691.046875\n",
       "2     220463.109375\n",
       "3     234543.187500\n",
       "4     243244.781250\n",
       "5     213721.390625\n",
       "6     240377.062500\n",
       "7     230174.937500\n",
       "8     226936.375000\n",
       "9     204566.484375\n",
       "10    205594.031250\n",
       "11    159279.250000\n",
       "12    116415.585938\n",
       "13     98507.906250\n",
       "14     71900.609375\n",
       "dtype: float32"
      ]
     },
     "execution_count": 67,
     "metadata": {},
     "output_type": "execute_result"
    }
   ],
   "source": [
    "ynewpd"
   ]
  },
  {
   "cell_type": "code",
   "execution_count": 68,
   "metadata": {},
   "outputs": [
    {
     "data": {
      "text/plain": [
       "0.8666666666666667"
      ]
     },
     "execution_count": 68,
     "metadata": {},
     "output_type": "execute_result"
    }
   ],
   "source": [
    "mda(actualpd, ynewpd)"
   ]
  },
  {
   "cell_type": "code",
   "execution_count": 69,
   "metadata": {},
   "outputs": [
    {
     "name": "stdout",
     "output_type": "stream",
     "text": [
      "RMSE: 66540.755753\n"
     ]
    }
   ],
   "source": [
    "mse = mean_squared_error(actualpd, ynewpd)\n",
    "rmse = sqrt(mse)\n",
    "print('RMSE: %f' % rmse)"
   ]
  },
  {
   "cell_type": "code",
   "execution_count": 70,
   "metadata": {},
   "outputs": [
    {
     "data": {
      "text/plain": [
       "0     -60765.531250\n",
       "1     -56882.953125\n",
       "2     -76435.890625\n",
       "3     -88061.812500\n",
       "4     -97905.218750\n",
       "5     -19911.609375\n",
       "6     -44497.937500\n",
       "7     -42840.062500\n",
       "8     -59718.625000\n",
       "9     -26980.515625\n",
       "10     -9868.968750\n",
       "11     60659.250000\n",
       "12    109092.585938\n",
       "13     91392.906250\n",
       "14     61378.609375\n",
       "dtype: float64"
      ]
     },
     "execution_count": 70,
     "metadata": {},
     "output_type": "execute_result"
    }
   ],
   "source": [
    "forecast_error = (ynewpd-actualpd)\n",
    "forecast_error"
   ]
  },
  {
   "cell_type": "code",
   "execution_count": 71,
   "metadata": {},
   "outputs": [
    {
     "data": {
      "text/plain": [
       "-17423.0515625"
      ]
     },
     "execution_count": 71,
     "metadata": {},
     "output_type": "execute_result"
    }
   ],
   "source": [
    "mean_forecast_error = np.mean(forecast_error)\n",
    "mean_forecast_error"
   ]
  },
  {
   "cell_type": "code",
   "execution_count": 72,
   "metadata": {},
   "outputs": [
    {
     "data": {
      "image/png": "[encoded data removed]",
      "text/plain": [
       "<Figure size 432x288 with 1 Axes>"
      ]
     },
     "metadata": {
      "needs_background": "light"
     },
     "output_type": "display_data"
    }
   ],
   "source": [
    "predictons, =plt.plot(ynewpd, label='Predictions')\n",
    "actual, =plt.plot(actualpd, label='Actual')\n",
    "plt.xlabel('Number of months')\n",
    "plt.ylabel('Passenger Numbers')\n",
    "plt.title(\"Predicted vs. Actual Passenger Numbers\")\n",
    "plt.legend(loc = 'upper center')\n",
    "plt.show()"
   ]
  },
  {
   "cell_type": "code",
   "execution_count": 73,
   "metadata": {},
   "outputs": [
    {
     "data": {
      "text/plain": [
       "263439.7662337662"
      ]
     },
     "execution_count": 73,
     "metadata": {},
     "output_type": "execute_result"
    }
   ],
   "source": [
    "np.mean(tseries)"
   ]
  }
 ],
 "metadata": {
  "kernelspec": {
   "display_name": "Python 3",
   "language": "python",
   "name": "python3"
  },
  "language_info": {
   "codemirror_mode": {
    "name": "ipython",
    "version": 3
   },
   "file_extension": ".py",
   "mimetype": "text/x-python",
   "name": "python",
   "nbconvert_exporter": "python",
   "pygments_lexer": "ipython3",
   "version": "3.6.9"
  }
 },
 "nbformat": 4,
 "nbformat_minor": 2
}
